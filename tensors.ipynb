{
 "cells": [
  {
   "cell_type": "code",
   "execution_count": 1,
   "id": "44322943",
   "metadata": {},
   "outputs": [],
   "source": [
    "import torch\n",
    "import numpy as np"
   ]
  },
  {
   "cell_type": "code",
   "execution_count": 2,
   "id": "4293f28e",
   "metadata": {},
   "outputs": [
    {
     "name": "stdout",
     "output_type": "stream",
     "text": [
      "cpu\n"
     ]
    },
    {
     "data": {
      "text/plain": [
       "tensor([[0, 1, 2],\n",
       "        [3, 4, 5]])"
      ]
     },
     "execution_count": 2,
     "metadata": {},
     "output_type": "execute_result"
    }
   ],
   "source": [
    "device = 'cuda' if torch.cuda.is_available() else 'cpu'\n",
    "x = torch.arange(6,device=device).reshape(2,3)\n",
    "print(x.device)\n",
    "x"
   ]
  },
  {
   "cell_type": "code",
   "execution_count": 3,
   "id": "9872af6c",
   "metadata": {},
   "outputs": [
    {
     "data": {
      "text/plain": [
       "tensor([[ 5,  5,  5],\n",
       "        [ 6,  9, 10]])"
      ]
     },
     "execution_count": 3,
     "metadata": {},
     "output_type": "execute_result"
    }
   ],
   "source": [
    "y = torch.randint(5,11,(2,3),device=device)\n",
    "y"
   ]
  },
  {
   "cell_type": "code",
   "execution_count": 4,
   "id": "c9d92059",
   "metadata": {},
   "outputs": [
    {
     "data": {
      "text/plain": [
       "torch.Size([2, 3])"
      ]
     },
     "execution_count": 4,
     "metadata": {},
     "output_type": "execute_result"
    }
   ],
   "source": [
    "z = x+y\n",
    "z.shape"
   ]
  },
  {
   "cell_type": "markdown",
   "id": "ec8709a7",
   "metadata": {},
   "source": [
    "### Creating Tensors"
   ]
  },
  {
   "cell_type": "code",
   "execution_count": 5,
   "id": "fa23c71b",
   "metadata": {},
   "outputs": [
    {
     "data": {
      "text/plain": [
       "tensor([2, 4, 1])"
      ]
     },
     "execution_count": 5,
     "metadata": {},
     "output_type": "execute_result"
    }
   ],
   "source": [
    "torch.tensor([2,4,1])  # by list"
   ]
  },
  {
   "cell_type": "code",
   "execution_count": 6,
   "id": "e43c7028",
   "metadata": {},
   "outputs": [
    {
     "data": {
      "text/plain": [
       "tensor([ 0.6308, -1.5909,  1.3682], dtype=torch.float64)"
      ]
     },
     "execution_count": 6,
     "metadata": {},
     "output_type": "execute_result"
    }
   ],
   "source": [
    "torch.tensor(np.random.randn(3))  # from numpy ndarray"
   ]
  },
  {
   "cell_type": "code",
   "execution_count": 7,
   "id": "503fcef0",
   "metadata": {},
   "outputs": [
    {
     "data": {
      "text/plain": [
       "tensor([2.3964e-06, 4.5814e-41, 2.1260e-09, 4.5814e-41])"
      ]
     },
     "execution_count": 7,
     "metadata": {},
     "output_type": "execute_result"
    }
   ],
   "source": [
    "torch.empty(4)  # tensor with unknown values"
   ]
  },
  {
   "cell_type": "code",
   "execution_count": 8,
   "id": "d6010c2e",
   "metadata": {},
   "outputs": [
    {
     "data": {
      "text/plain": [
       "tensor([[0., 0., 0., 0.],\n",
       "        [0., 0., 0., 0.]])"
      ]
     },
     "execution_count": 8,
     "metadata": {},
     "output_type": "execute_result"
    }
   ],
   "source": [
    "x=torch.zeros(2,4)   # zeros with given shape\n",
    "x"
   ]
  },
  {
   "cell_type": "code",
   "execution_count": 9,
   "id": "7171b38e",
   "metadata": {},
   "outputs": [
    {
     "data": {
      "text/plain": [
       "tensor([[1., 1., 1., 1.],\n",
       "        [1., 1., 1., 1.]])"
      ]
     },
     "execution_count": 9,
     "metadata": {},
     "output_type": "execute_result"
    }
   ],
   "source": [
    "torch.ones_like(x)  # ones using shape of some other tensor"
   ]
  },
  {
   "cell_type": "code",
   "execution_count": 10,
   "id": "a3bf3ce2",
   "metadata": {},
   "outputs": [
    {
     "data": {
      "text/plain": [
       "tensor([[0.7951, 0.1319, 0.9668],\n",
       "        [0.3288, 0.5541, 0.6015]])"
      ]
     },
     "execution_count": 10,
     "metadata": {},
     "output_type": "execute_result"
    }
   ],
   "source": [
    "torch.rand(2,3)  # tensor with numbers from normal distribution"
   ]
  },
  {
   "cell_type": "code",
   "execution_count": 11,
   "id": "090841ad",
   "metadata": {},
   "outputs": [
    {
     "data": {
      "text/plain": [
       "tensor([[1, 1, 1, 2],\n",
       "        [4, 1, 5, 4]])"
      ]
     },
     "execution_count": 11,
     "metadata": {},
     "output_type": "execute_result"
    }
   ],
   "source": [
    "torch.randint(1,6,(2,4))  # tensor with random int"
   ]
  },
  {
   "cell_type": "code",
   "execution_count": 12,
   "id": "81cc63e7",
   "metadata": {},
   "outputs": [
    {
     "data": {
      "text/plain": [
       "tensor([0., 0., 0.])"
      ]
     },
     "execution_count": 12,
     "metadata": {},
     "output_type": "execute_result"
    }
   ],
   "source": [
    "torch.zeros(3,device=device) # specify the device as well"
   ]
  },
  {
   "cell_type": "code",
   "execution_count": 13,
   "id": "e2d67c75",
   "metadata": {},
   "outputs": [
    {
     "data": {
      "text/plain": [
       "tensor([[0.0000, 0.0667, 0.1333, 0.2000],\n",
       "        [0.2667, 0.3333, 0.4000, 0.4667],\n",
       "        [0.5333, 0.6000, 0.6667, 0.7333],\n",
       "        [0.8000, 0.8667, 0.9333, 1.0000]])"
      ]
     },
     "execution_count": 13,
     "metadata": {},
     "output_type": "execute_result"
    }
   ],
   "source": [
    "x = torch.linspace(0,1,16).reshape(4,4)\n",
    "x"
   ]
  },
  {
   "cell_type": "code",
   "execution_count": 14,
   "id": "224be951",
   "metadata": {},
   "outputs": [
    {
     "name": "stdout",
     "output_type": "stream",
     "text": [
      "shape : torch.Size([4, 4])\n",
      "device : cpu\n",
      "dtype : torch.float32\n",
      "ndim : 2\n",
      "requires grad : False\n"
     ]
    }
   ],
   "source": [
    "# access multiple attributes of the tensor\n",
    "\n",
    "print(f'shape : {x.shape}')\n",
    "print(f'device : {x.device}')\n",
    "print(f'dtype : {x.dtype}')\n",
    "print(f'ndim : {x.ndim}')\n",
    "print(f'requires grad : {x.requires_grad}')"
   ]
  },
  {
   "cell_type": "code",
   "execution_count": 15,
   "id": "4e0ba981",
   "metadata": {},
   "outputs": [
    {
     "data": {
      "text/plain": [
       "tensor([-9,  4,  1], dtype=torch.int32)"
      ]
     },
     "execution_count": 15,
     "metadata": {},
     "output_type": "execute_result"
    }
   ],
   "source": [
    "# cast from one dtype to another\n",
    "w = torch.tensor([-9,4,1],dtype=torch.float32)\n",
    "w.int() # w is still a float"
   ]
  },
  {
   "cell_type": "code",
   "execution_count": 17,
   "id": "39cff693",
   "metadata": {},
   "outputs": [
    {
     "data": {
      "text/plain": [
       "tensor([0, 1, 2, 3, 4, 5, 6, 7, 8, 9])"
      ]
     },
     "execution_count": 17,
     "metadata": {},
     "output_type": "execute_result"
    }
   ],
   "source": [
    "x = torch.arange(10)\n",
    "x"
   ]
  },
  {
   "cell_type": "code",
   "execution_count": 18,
   "id": "1052033c",
   "metadata": {},
   "outputs": [
    {
     "data": {
      "text/plain": [
       "tensor([[0, 1, 2, 3, 4],\n",
       "        [5, 6, 7, 8, 9]])"
      ]
     },
     "execution_count": 18,
     "metadata": {},
     "output_type": "execute_result"
    }
   ],
   "source": [
    "x.view(2,5)  # prefer view over reshape"
   ]
  },
  {
   "cell_type": "code",
   "execution_count": 29,
   "id": "a5b383a7",
   "metadata": {},
   "outputs": [
    {
     "data": {
      "text/plain": [
       "tensor([[0, 1, 2, 3, 4],\n",
       "        [5, 6, 7, 8, 9]])"
      ]
     },
     "execution_count": 29,
     "metadata": {},
     "output_type": "execute_result"
    }
   ],
   "source": [
    "# combine or split tensors example\n",
    "x = torch.arange(0,10).reshape(2,5)\n",
    "x"
   ]
  },
  {
   "cell_type": "code",
   "execution_count": 30,
   "id": "2420901d",
   "metadata": {},
   "outputs": [
    {
     "data": {
      "text/plain": [
       "tensor([[[0, 1, 2, 3, 4],\n",
       "         [5, 6, 7, 8, 9]],\n",
       "\n",
       "        [[0, 1, 2, 3, 4],\n",
       "         [5, 6, 7, 8, 9]]])"
      ]
     },
     "execution_count": 30,
     "metadata": {},
     "output_type": "execute_result"
    }
   ],
   "source": [
    "# combine tensors\n",
    "y = torch.stack((x,x))\n",
    "y"
   ]
  },
  {
   "cell_type": "code",
   "execution_count": 31,
   "id": "8cb1db62",
   "metadata": {},
   "outputs": [
    {
     "data": {
      "text/plain": [
       "(tensor([0, 5]),\n",
       " tensor([1, 6]),\n",
       " tensor([2, 7]),\n",
       " tensor([3, 8]),\n",
       " tensor([4, 9]))"
      ]
     },
     "execution_count": 31,
     "metadata": {},
     "output_type": "execute_result"
    }
   ],
   "source": [
    "x.unbind(dim=1) # split tensor"
   ]
  },
  {
   "cell_type": "code",
   "execution_count": 33,
   "id": "aceefd65",
   "metadata": {},
   "outputs": [
    {
     "data": {
      "text/plain": [
       "(tensor([0, 1, 2, 3, 4]), tensor([5, 6, 7, 8, 9]))"
      ]
     },
     "execution_count": 33,
     "metadata": {},
     "output_type": "execute_result"
    }
   ],
   "source": [
    "x.unbind(dim=0) # split along different dimension"
   ]
  },
  {
   "cell_type": "code",
   "execution_count": 38,
   "id": "8394a811",
   "metadata": {},
   "outputs": [
    {
     "data": {
      "text/plain": [
       "torch.Size([2, 2, 2])"
      ]
     },
     "execution_count": 38,
     "metadata": {},
     "output_type": "execute_result"
    }
   ],
   "source": [
    "# squeeze method\n",
    "\n",
    "# removes all dim of size 1\n",
    "x = torch.zeros(2, 1, 2, 1, 2)\n",
    "y = torch.squeeze(x)\n",
    "y.size()"
   ]
  },
  {
   "cell_type": "markdown",
   "id": "51f5c254",
   "metadata": {},
   "source": [
    "### Pointwise Operations\n",
    "\n",
    "These operations are applied individually on all elements of a tensor"
   ]
  },
  {
   "cell_type": "code",
   "execution_count": 39,
   "id": "309bf717",
   "metadata": {},
   "outputs": [
    {
     "data": {
      "text/plain": [
       "tensor([ 0.0113, -0.0994,  0.7990,  1.2700,  0.9998])"
      ]
     },
     "execution_count": 39,
     "metadata": {},
     "output_type": "execute_result"
    }
   ],
   "source": [
    "x = torch.randn(5)\n",
    "x"
   ]
  },
  {
   "cell_type": "code",
   "execution_count": 41,
   "id": "06d15b6f",
   "metadata": {},
   "outputs": [
    {
     "data": {
      "text/plain": [
       "tensor([ 0., -1.,  0.,  1.,  0.])"
      ]
     },
     "execution_count": 41,
     "metadata": {},
     "output_type": "execute_result"
    }
   ],
   "source": [
    "x.floor()"
   ]
  },
  {
   "cell_type": "code",
   "execution_count": 42,
   "id": "0afee38e",
   "metadata": {},
   "outputs": [
    {
     "data": {
      "text/plain": [
       "tensor([ 0.0113, -0.0992,  0.7167,  0.9551,  0.8414])"
      ]
     },
     "execution_count": 42,
     "metadata": {},
     "output_type": "execute_result"
    }
   ],
   "source": [
    "x.sin()"
   ]
  },
  {
   "cell_type": "code",
   "execution_count": 46,
   "id": "6443f3eb",
   "metadata": {},
   "outputs": [
    {
     "data": {
      "text/plain": [
       "tensor([1.0113, 0.9006, 1.7990, 2.2700, 1.9998])"
      ]
     },
     "execution_count": 46,
     "metadata": {},
     "output_type": "execute_result"
    }
   ],
   "source": [
    "x.add(1)"
   ]
  },
  {
   "cell_type": "code",
   "execution_count": 48,
   "id": "d1c9d96b",
   "metadata": {},
   "outputs": [
    {
     "data": {
      "text/plain": [
       "tensor([ 0.0113, -0.0994,  0.7990,  1.2700,  0.9998])"
      ]
     },
     "execution_count": 48,
     "metadata": {},
     "output_type": "execute_result"
    }
   ],
   "source": [
    "x  # original tensor remains the same by default"
   ]
  },
  {
   "cell_type": "markdown",
   "id": "331b9440",
   "metadata": {},
   "source": [
    "### Reduction Operations\n",
    "\n",
    "These operations reduce the dimensionality of the a tensor."
   ]
  },
  {
   "cell_type": "code",
   "execution_count": 54,
   "id": "3f79f3bb",
   "metadata": {},
   "outputs": [
    {
     "data": {
      "text/plain": [
       "tensor([[8, 9, 1, 6, 7, 4, 8, 6, 6, 5]])"
      ]
     },
     "execution_count": 54,
     "metadata": {},
     "output_type": "execute_result"
    }
   ],
   "source": [
    "x = torch.randint(0,10,(1,10))\n",
    "x"
   ]
  },
  {
   "cell_type": "code",
   "execution_count": null,
   "id": "412d5036",
   "metadata": {},
   "outputs": [],
   "source": [
    "torch.argmax(x,)"
   ]
  }
 ],
 "metadata": {
  "kernelspec": {
   "display_name": "Python 3 (ipykernel)",
   "language": "python",
   "name": "python3"
  },
  "language_info": {
   "codemirror_mode": {
    "name": "ipython",
    "version": 3
   },
   "file_extension": ".py",
   "mimetype": "text/x-python",
   "name": "python",
   "nbconvert_exporter": "python",
   "pygments_lexer": "ipython3",
   "version": "3.9.7"
  }
 },
 "nbformat": 4,
 "nbformat_minor": 5
}
